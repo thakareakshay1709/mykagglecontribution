{
 "cells": [
  {
   "cell_type": "markdown",
   "id": "50b771de",
   "metadata": {},
   "source": [
    "## Phases of Machine Learning\n",
    "\n",
    "1. Getting Data\n",
    "2. Discover & visualize the data to gain insights\n",
    "3. Prepare data for machine learning models\n",
    "4. Select model & train it\n",
    "5. Fine tune model"
   ]
  },
  {
   "cell_type": "markdown",
   "id": "8c8de977",
   "metadata": {},
   "source": [
    "## 1. Getting Data"
   ]
  },
  {
   "cell_type": "code",
   "execution_count": 1,
   "id": "6cc55b34",
   "metadata": {},
   "outputs": [],
   "source": [
    "import os\n",
    "import pandas as pd\n",
    "import numpy as np"
   ]
  },
  {
   "cell_type": "code",
   "execution_count": 6,
   "id": "e9bf1db2",
   "metadata": {},
   "outputs": [],
   "source": [
    "def acquire_housing_data(is_kaggle_platform = False):\n",
    "    \"\"\"\n",
    "    Function to prepare train & test dataset depending on whether running on kaggle\n",
    "    \"\"\"\n",
    "    if is_kaggle_platform:\n",
    "        # reading data into dataframe\n",
    "        train_df = pd.read_csv('/kaggle/input/home-data-for-ml-course/train.csv')\n",
    "        test_df = pd.read_csv('/kaggle/input/home-data-for-ml-course/test.csv')\n",
    "    else:\n",
    "        # reading data into dataframe\n",
    "        train_df = pd.read_csv('./data/train.csv')\n",
    "        test_df = pd.read_csv('./data/test.csv')\n",
    "    return train_df, test_df"
   ]
  },
  {
   "cell_type": "code",
   "execution_count": 7,
   "id": "45a40a4e",
   "metadata": {},
   "outputs": [],
   "source": [
    "train, test = acquire_housing_data()"
   ]
  },
  {
   "cell_type": "code",
   "execution_count": null,
   "id": "181a4aa5",
   "metadata": {},
   "outputs": [],
   "source": []
  },
  {
   "cell_type": "code",
   "execution_count": null,
   "id": "1ef8db8d",
   "metadata": {},
   "outputs": [],
   "source": []
  }
 ],
 "metadata": {
  "kernelspec": {
   "display_name": "Python 3",
   "language": "python",
   "name": "python3"
  },
  "language_info": {
   "codemirror_mode": {
    "name": "ipython",
    "version": 3
   },
   "file_extension": ".py",
   "mimetype": "text/x-python",
   "name": "python",
   "nbconvert_exporter": "python",
   "pygments_lexer": "ipython3",
   "version": "3.8.8"
  }
 },
 "nbformat": 4,
 "nbformat_minor": 5
}
